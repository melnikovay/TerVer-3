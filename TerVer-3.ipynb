{
 "cells": [
  {
   "cell_type": "markdown",
   "metadata": {},
   "source": [
    "Задача 1\n",
    "\n",
    "Даны значения зарплат из выборки выпускников:\n",
    "\n",
    "100, 80, 75, 77, 89, 33, 45, 25, 65, 17, 30, 230, 24, 57, 55, 70, 75, 65, 84, 90, 150\n",
    "\n",
    "Своими руками (т.е. без использования статистических функций вроде mean, std, var) посчитать среднее арифметическое, смещённую и несмещённую оценки дисперсии, среднее квадратичное отклонение для данной выборки.\n",
    "\n",
    "Можно затем посчитать те же значения с использованием статистических функций, чтобы проверить себя."
   ]
  },
  {
   "cell_type": "code",
   "execution_count": 20,
   "metadata": {},
   "outputs": [],
   "source": [
    "import numpy as np\n",
    "A = [100, 80, 75, 77, 89, 33, 45, 25, 65, 17, 30, 230, 24, 57, 55, 70, 75, 65, 84, 90, 150]\n"
   ]
  },
  {
   "cell_type": "markdown",
   "metadata": {},
   "source": [
    "Ищем среднее арифметическое"
   ]
  },
  {
   "cell_type": "code",
   "execution_count": 41,
   "metadata": {},
   "outputs": [
    {
     "name": "stdout",
     "output_type": "stream",
     "text": [
      "Среднее арифметическое 73.14285714285714\n",
      "73.14285714285714\n"
     ]
    }
   ],
   "source": [
    "sum1=0\n",
    "for i in range (0,len(A)):\n",
    "    X_a = A[i]\n",
    "    sum1 = sum1+X_a\n",
    "    Sr_arif = sum1/len(A)\n",
    "print('Среднее арифметическое',Sr_arif)\n",
    "sum1_np = np.mean(A)\n",
    "print(sum1_np)"
   ]
  },
  {
   "cell_type": "markdown",
   "metadata": {},
   "source": [
    "Ищем смещённую и несмещённую оценки дисперсии"
   ]
  },
  {
   "cell_type": "code",
   "execution_count": 24,
   "metadata": {},
   "outputs": [
    {
     "name": "stdout",
     "output_type": "stream",
     "text": [
      "2135.074829931973\n",
      "2135.0748299319725\n",
      "2241.8285714285716\n",
      "2241.828571428571\n"
     ]
    }
   ],
   "source": [
    "sum2=0\n",
    "for i in range (0,len(A)):\n",
    "    X_a = A[i]\n",
    "    D_a = (X_a - Sr_arif)**2\n",
    "    sum2 = sum2+D_a\n",
    "    Sm_dis = sum2/len(A)\n",
    "    Nsm_dis = sum2/(len(A)-1)\n",
    "print(Sm_dis)\n",
    "Sm_dis_np = np.var(A)\n",
    "print(Sm_dis_np)\n",
    "print(Nsm_dis)\n",
    "NSm_dis_np = np.var(A,ddof=1)\n",
    "print(NSm_dis_np)"
   ]
  },
  {
   "cell_type": "markdown",
   "metadata": {},
   "source": [
    "Задача 2\n",
    "\n",
    "Для выборки из задачи 1 найти (также без использования статистических функций) медиану, первый и третий квартили, интерквартильное расстояние. Найти выборсы в выборке, используя для этого \"усы\" из boxplot.\n",
    "\n",
    "В этой задаче неоднозначности в вычислении квантилей можно разрешать любым способом."
   ]
  },
  {
   "cell_type": "code",
   "execution_count": 25,
   "metadata": {},
   "outputs": [
    {
     "name": "stdout",
     "output_type": "stream",
     "text": [
      "[17, 24, 25, 30, 33, 45, 55, 57, 65, 65, 70, 75, 75, 77, 80, 84, 89, 90, 100, 150, 230]\n"
     ]
    }
   ],
   "source": [
    "B = sorted(A)\n",
    "print(B)"
   ]
  },
  {
   "cell_type": "code",
   "execution_count": 45,
   "metadata": {},
   "outputs": [
    {
     "name": "stdout",
     "output_type": "stream",
     "text": [
      "10\n",
      "Медиана 70\n",
      "70.0\n"
     ]
    }
   ],
   "source": [
    "L=(len(B)//2)\n",
    "print(L)\n",
    "M = B[L]\n",
    "print('Медиана', M)\n",
    "M_np = np.median(A)\n",
    "print(M_np)"
   ]
  },
  {
   "cell_type": "code",
   "execution_count": 53,
   "metadata": {},
   "outputs": [
    {
     "name": "stdout",
     "output_type": "stream",
     "text": [
      "Первый квартиль 45\n",
      "Третий квартиль 84\n",
      "45.0 84.0\n",
      "интерквартильное расстояние 39\n"
     ]
    }
   ],
   "source": [
    "L1=(len(B)//4)\n",
    "k1=B[L1]\n",
    "print('Первый квартиль', k1)\n",
    "L3=(L + len(B)//4)\n",
    "k3=B[L3]\n",
    "print('Третий квартиль', k3)\n",
    "k1_np=np.percentile(A,25)\n",
    "k3_np=np.percentile(A,75)\n",
    "print(k1_np, k3_np)\n",
    "ink = k3-k1\n",
    "print('интерквартильное расстояние',ink)"
   ]
  },
  {
   "cell_type": "code",
   "execution_count": 56,
   "metadata": {},
   "outputs": [
    {
     "data": {
      "image/png": "[encoded data removed]",
      "text/plain": [
       "<Figure size 432x288 with 1 Axes>"
      ]
     },
     "metadata": {
      "needs_background": "light"
     },
     "output_type": "display_data"
    }
   ],
   "source": [
    "from matplotlib import pyplot as plt\n",
    "plt.boxplot(B)\n",
    "plt.grid()"
   ]
  },
  {
   "cell_type": "markdown",
   "metadata": {},
   "source": [
    "Выбросы в выборке - 150 и 230"
   ]
  },
  {
   "cell_type": "markdown",
   "metadata": {},
   "source": [
    "Задача 3\n",
    "\n",
    "В университет на факультеты A и B поступило равное количество студентов, а на факультет C студентов поступило столько же, сколько на A и B вместе. Вероятность того, что студент факультета A сдаст первую сессию, равна 0.8. Для студента факультета B эта вероятность равна 0.7, а для студента факультета C - 0.9. Студент сдал первую сессию. Какова вероятность, что он учится: a) на факультете A? б) на факультете B? в) на факультете C?\n",
    "\n",
    "Замечание: да, эта задача не на тему описательных статистик, но тема важная, и её стоит иногда освежать в памяти."
   ]
  },
  {
   "cell_type": "markdown",
   "metadata": {},
   "source": [
    "ПУсть на фактультете А и В учатся по х студентов. Всего на факультетах А,B и С учатся 4х студентов. Вероятность оказаться студентом ф.А или ф.В = 1/4, вероятность оказаться студентом ф.С = 1/2\n",
    "По формуле полной вероятности рассчитаем вероятность сдачи студентом сессии P(S) = P(S|A)*P(A)+P(S|B)*P(B)+P(S|C)*P(C):"
   ]
  },
  {
   "cell_type": "code",
   "execution_count": 59,
   "metadata": {},
   "outputs": [
    {
     "name": "stdout",
     "output_type": "stream",
     "text": [
      "0.825\n"
     ]
    }
   ],
   "source": [
    "P_s = 0.8*(1/4)+0.7*(1/4)+0.9*(1/2)\n",
    "print(P_s)"
   ]
  },
  {
   "cell_type": "markdown",
   "metadata": {},
   "source": [
    "Применяем формулу Байерса P(A|S)=P(S|A)*P(A)/P(S)"
   ]
  },
  {
   "cell_type": "code",
   "execution_count": 61,
   "metadata": {},
   "outputs": [
    {
     "name": "stdout",
     "output_type": "stream",
     "text": [
      "0.24242424242424246 0.21212121212121213 0.5454545454545455\n"
     ]
    }
   ],
   "source": [
    "P_a= 0.8*(1/4)/P_s\n",
    "P_b=0.7*(1/4)/P_s\n",
    "P_c=0.9*(1/2)/P_s\n",
    "print(P_a,P_b,P_c)"
   ]
  }
 ],
 "metadata": {
  "kernelspec": {
   "display_name": "Python 3",
   "language": "python",
   "name": "python3"
  },
  "language_info": {
   "codemirror_mode": {
    "name": "ipython",
    "version": 3
   },
   "file_extension": ".py",
   "mimetype": "text/x-python",
   "name": "python",
   "nbconvert_exporter": "python",
   "pygments_lexer": "ipython3",
   "version": "3.7.3"
  }
 },
 "nbformat": 4,
 "nbformat_minor": 2
}
